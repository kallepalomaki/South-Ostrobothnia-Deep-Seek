{
 "cells": [
  {
   "cell_type": "markdown",
   "metadata": {
    "colab_type": "text",
    "id": "view-in-github"
   },
   "source": [
    "<a href=\"https://colab.research.google.com/github/kallepalomaki/South-Ostrobothnia-Deep-Seek/blob/main/deep_seek_southob_blog.ipynb\" target=\"_parent\"><img src=\"https://colab.research.google.com/assets/colab-badge.svg\" alt=\"Open In Colab\"/></a>"
   ]
  },
  {
   "cell_type": "markdown",
   "metadata": {
    "id": "XmdmEWx70sQp"
   },
   "source": [
    "This a google Colab notebook based on Data camp Deep Seek fine tuning tutorial https://www.datacamp.com/tutorial/fine-tuning-deepseek-r1-reasoning-model which I have adapted to for translating standard Finnish to South Osthrobothnian dialect. Fine tuning data is done in two passes firstly a bit over 300 standard Finnish and South Osthrobothnian dialect sentence pairs and second on bit over 2000 standard Finnish South Osthrobothnia word pairs. South Osthrobothnian sentences are taken from Pekka Pohjanpää's blog: http://pohopekka.blogspot.com/\" I'm not sharing the sentence pairs but Standard Finnish that correspond the blog text. Blog text is indexed by sentence order so that standard Finnish sentences can be matched. I also share the vocabulary. Shared data is placeded at directory data.\n",
    "Not that the blog is Copyrighted material and I haven't reached copyright holder. Therfore I provide only a download function. Use at your own responsibility."
   ]
  },
  {
   "cell_type": "code",
   "execution_count": null,
   "metadata": {
    "execution": {
     "iopub.execute_input": "2025-03-15T07:22:13.069244Z",
     "iopub.status.busy": "2025-03-15T07:22:13.068851Z",
     "iopub.status.idle": "2025-03-15T07:25:24.544624Z",
     "shell.execute_reply": "2025-03-15T07:25:24.543408Z",
     "shell.execute_reply.started": "2025-03-15T07:22:13.069203Z"
    },
    "id": "ZcTI6dtVSlVH"
   },
   "outputs": [],
   "source": [
    "%%capture\n",
    "!pip install unsloth\n",
    "!pip install --force-reinstall --no-cache-dir --no-deps git+https://github.com/unslothai/unsloth.git\n"
   ]
  },
  {
   "cell_type": "code",
   "execution_count": null,
   "metadata": {
    "colab": {
     "base_uri": "https://localhost:8080/"
    },
    "id": "6N7yA6AXtVrw",
    "outputId": "19101db0-6ead-4358-a003-2ef9ad5db4eb"
   },
   "outputs": [],
   "source": [
    "!pip install bs4"
   ]
  },
  {
   "cell_type": "markdown",
   "metadata": {
    "id": "nES17CfOzY_o"
   },
   "source": [
    "Directory settings. Adapt the as needed. Secrets are needed for huggingface and wandb tokens. Datadir is needed for storing General Finnish - South Ostrobotnian vocabulary data in file vocabulary_deep_seek_format.json and dialect sentence indices against standard Finnish sentences file in standard_finnish_sentences.json. I'm using google colab, and therefore directories point to google drive."
   ]
  },
  {
   "cell_type": "code",
   "execution_count": null,
   "metadata": {
    "id": "mOr0dyQ-nRFK"
   },
   "outputs": [],
   "source": [
    "SECRETS_DIR = \"/content/drive/My Drive/secrets\"\n",
    "DATA_DIR = \"/content/drive/My Drive/data\""
   ]
  },
  {
   "cell_type": "code",
   "execution_count": null,
   "metadata": {
    "colab": {
     "base_uri": "https://localhost:8080/"
    },
    "id": "4O7nKpcBU6rm",
    "outputId": "f5595065-8524-4ce8-e29b-d3eecbbec64d"
   },
   "outputs": [],
   "source": [
    "from google.colab import drive\n",
    "drive.mount('/content/drive')\n",
    "\n",
    "secret_file_path = SECRETS_DIR+'/huggingfacetoken.key'\n",
    "with open(secret_file_path) as f:\n",
    "  hf_token=f.read().strip()"
   ]
  },
  {
   "cell_type": "code",
   "execution_count": null,
   "metadata": {
    "id": "yDscdP60WmxU"
   },
   "outputs": [],
   "source": [
    "secret_file_path = SECRETS_DIR+'/wandb.key'\n",
    "\n",
    "with open(secret_file_path) as f:\n",
    "  wb_token=f.read().strip()"
   ]
  },
  {
   "cell_type": "code",
   "execution_count": null,
   "metadata": {
    "execution": {
     "iopub.execute_input": "2025-03-15T07:25:24.546462Z",
     "iopub.status.busy": "2025-03-15T07:25:24.546101Z",
     "iopub.status.idle": "2025-03-15T07:25:25.639298Z",
     "shell.execute_reply": "2025-03-15T07:25:25.638659Z",
     "shell.execute_reply.started": "2025-03-15T07:25:24.546426Z"
    },
    "id": "8c9U8C9oSlVJ"
   },
   "outputs": [],
   "source": [
    "from huggingface_hub import login\n",
    "login(hf_token)"
   ]
  },
  {
   "cell_type": "markdown",
   "metadata": {
    "id": "uzBjvP0T1S0k"
   },
   "source": [
    "Wandb is used here to monitor training. You'll need to create account and get token to use it."
   ]
  },
  {
   "cell_type": "code",
   "execution_count": null,
   "metadata": {
    "execution": {
     "iopub.execute_input": "2025-03-15T07:25:25.640838Z",
     "iopub.status.busy": "2025-03-15T07:25:25.640609Z",
     "iopub.status.idle": "2025-03-15T07:25:40.059852Z",
     "shell.execute_reply": "2025-03-15T07:25:40.059023Z",
     "shell.execute_reply.started": "2025-03-15T07:25:25.640818Z"
    },
    "id": "RHuN_n8HSlVK"
   },
   "outputs": [],
   "source": [
    "import wandb\n",
    "import os\n",
    "os.environ[\"WANDB_SILENT\"] = \"true\"\n",
    "\n",
    "wandb.login(key=wb_token)\n",
    "run = wandb.init(\n",
    "    project='Fine-tune-DeepSeek-R1-Distill-Llama-8B on South Ostrobotnia dialect 2',\n",
    "    job_type=\"training\",\n",
    "    anonymous=\"allow\"\n",
    ")"
   ]
  },
  {
   "cell_type": "markdown",
   "metadata": {
    "id": "LEKl3h3Sy3ke"
   },
   "source": [
    "Deep Seek model is downloaded from Huggingface. You'll need Huggingface api key for this."
   ]
  },
  {
   "cell_type": "code",
   "execution_count": null,
   "metadata": {
    "colab": {
     "base_uri": "https://localhost:8080/"
    },
    "execution": {
     "iopub.execute_input": "2025-03-15T07:25:40.061335Z",
     "iopub.status.busy": "2025-03-15T07:25:40.061016Z",
     "iopub.status.idle": "2025-03-15T07:26:48.153053Z",
     "shell.execute_reply": "2025-03-15T07:26:48.152432Z",
     "shell.execute_reply.started": "2025-03-15T07:25:40.061312Z"
    },
    "id": "LfcJ0NfGSlVL",
    "outputId": "57f6e2df-a039-4e42-a6e7-3a4304ed1b01"
   },
   "outputs": [],
   "source": [
    "from unsloth import FastLanguageModel\n",
    "\n",
    "max_seq_length = 2048\n",
    "dtype = None\n",
    "load_in_4bit = True\n",
    "\n",
    "\n",
    "model, tokenizer = FastLanguageModel.from_pretrained(\n",
    "    model_name = \"unsloth/DeepSeek-R1-Distill-Llama-8B\",\n",
    "    max_seq_length = max_seq_length,\n",
    "    dtype = dtype,\n",
    "    load_in_4bit = load_in_4bit,\n",
    "    token = hf_token,\n",
    ")"
   ]
  },
  {
   "cell_type": "markdown",
   "metadata": {
    "id": "KfXlhJc8zMs6"
   },
   "source": [
    "Prompt for testing with standard Finnish how that translates to the dialect."
   ]
  },
  {
   "cell_type": "code",
   "execution_count": null,
   "metadata": {
    "execution": {
     "iopub.execute_input": "2025-03-15T07:26:48.154083Z",
     "iopub.status.busy": "2025-03-15T07:26:48.153880Z",
     "iopub.status.idle": "2025-03-15T07:26:48.158203Z",
     "shell.execute_reply": "2025-03-15T07:26:48.157412Z",
     "shell.execute_reply.started": "2025-03-15T07:26:48.154065Z"
    },
    "id": "RbrLUXQISlVL"
   },
   "outputs": [],
   "source": [
    "prompt_style = \"\"\"Below is an instruction that describes a task, paired with an input that provides further context.\n",
    "Write a response that appropriately completes the request.\n",
    "\n",
    "### Instruction:\n",
    "Translate standard Finnish sentence to South Ostrobothnian dialect.\n",
    "\n",
    "### Question:\n",
    "{}\n",
    "\n",
    "### Response:\n",
    "<think>{}\"\"\""
   ]
  },
  {
   "cell_type": "markdown",
   "metadata": {
    "id": "2j6mcjGBzacW"
   },
   "source": [
    "Run test on the original model before finetuning."
   ]
  },
  {
   "cell_type": "code",
   "execution_count": null,
   "metadata": {
    "colab": {
     "base_uri": "https://localhost:8080/"
    },
    "execution": {
     "iopub.execute_input": "2025-03-15T07:26:48.159374Z",
     "iopub.status.busy": "2025-03-15T07:26:48.159087Z",
     "iopub.status.idle": "2025-03-15T07:27:14.274869Z",
     "shell.execute_reply": "2025-03-15T07:27:14.274072Z",
     "shell.execute_reply.started": "2025-03-15T07:26:48.159352Z"
    },
    "id": "_BddXNWJSlVN",
    "outputId": "cf5491e1-9792-4d56-af3a-9f5afc907c65"
   },
   "outputs": [],
   "source": [
    "standard_finnish = \"Hevoskauppias ajoi uudella hevosellaan meidän talon ohi. Katsoin häntä aitan ovelta.\"\n",
    "\n",
    "FastLanguageModel.for_inference(model)\n",
    "inputs = tokenizer([prompt_style.format(standard_finnish, \"\")], return_tensors=\"pt\").to(\"cuda\")\n",
    "\n",
    "outputs = model.generate(\n",
    "    input_ids=inputs.input_ids,\n",
    "    attention_mask=inputs.attention_mask,\n",
    "    max_new_tokens=1200,\n",
    "    use_cache=True,\n",
    ")\n",
    "response = tokenizer.batch_decode(outputs)\n",
    "print(\"Dialect:\")\n",
    "print(response[0].split(\"### Response:\")[1])"
   ]
  },
  {
   "cell_type": "markdown",
   "metadata": {
    "id": "etmh2N30zumu"
   },
   "source": [
    "Training prompt for standard Finnish and dialect sentence pairs."
   ]
  },
  {
   "cell_type": "code",
   "execution_count": null,
   "metadata": {
    "execution": {
     "iopub.execute_input": "2025-03-15T07:27:14.276003Z",
     "iopub.status.busy": "2025-03-15T07:27:14.275729Z",
     "iopub.status.idle": "2025-03-15T07:27:14.280362Z",
     "shell.execute_reply": "2025-03-15T07:27:14.279462Z",
     "shell.execute_reply.started": "2025-03-15T07:27:14.275980Z"
    },
    "id": "zfwfPSYTSlVN"
   },
   "outputs": [],
   "source": [
    "train_prompt_style = \"\"\"Below is an instruction that describes a task, paired with an input that provides further context.\n",
    "Write a response that appropriately completes the request.\n",
    "\n",
    "### Instruction:\n",
    "Translate standard Finnish sentence to South Ostrobothnian dialect.\n",
    "\n",
    "### Question:\n",
    "{}\n",
    "\n",
    "### Response:\n",
    "<think>\n",
    "{}\n",
    "</think>\n",
    "{}\"\"\""
   ]
  },
  {
   "cell_type": "markdown",
   "metadata": {
    "id": "LKCCZtvszz4y"
   },
   "source": [
    "Training prompt for standard Finnish to dialect vocabulary."
   ]
  },
  {
   "cell_type": "code",
   "execution_count": null,
   "metadata": {
    "id": "ve2t9bAc9jHf"
   },
   "outputs": [],
   "source": [
    "train_prompt_vocabulary_style = \"\"\"Below is an instruction that describes a task, paired with an input that provides further context.\n",
    "Write a response that appropriately completes the request.\n",
    "\n",
    "### Instruction:\n",
    "Translate the following word from standard Finnish to South Ostrobothnian dialect.\n",
    "\n",
    "### Word:\n",
    "{}\n",
    "\n",
    "### Dialect Equivalent:\n",
    "<think>\n",
    "{}\n",
    "</think>\n",
    "{}\"\"\""
   ]
  },
  {
   "cell_type": "markdown",
   "metadata": {
    "id": "33RVEZyu0B9d"
   },
   "source": [
    "Formatting function for standard Finnish to dialect sentence pairs."
   ]
  },
  {
   "cell_type": "code",
   "execution_count": null,
   "metadata": {
    "execution": {
     "iopub.execute_input": "2025-03-15T07:27:14.282686Z",
     "iopub.status.busy": "2025-03-15T07:27:14.282413Z",
     "iopub.status.idle": "2025-03-15T07:27:14.297201Z",
     "shell.execute_reply": "2025-03-15T07:27:14.296527Z",
     "shell.execute_reply.started": "2025-03-15T07:27:14.282658Z"
    },
    "id": "uwjS6ZQHSlVO"
   },
   "outputs": [],
   "source": [
    "EOS_TOKEN = tokenizer.eos_token  # Must add EOS_TOKEN\n",
    "\n",
    "\n",
    "def formatting_prompts_func(examples):\n",
    "    inputs = examples[\"Question\"]\n",
    "    cots = examples[\"Complex_CoT\"]\n",
    "    outputs = examples[\"Response\"]\n",
    "    texts = []\n",
    "    for input, cot, output in zip(inputs, cots, outputs):\n",
    "        text = train_prompt_style.format(input, cot, output) + EOS_TOKEN\n",
    "        texts.append(text)\n",
    "    return {\n",
    "        \"text\": texts,\n",
    "    }"
   ]
  },
  {
   "cell_type": "markdown",
   "metadata": {
    "id": "MUbQ-5dY0KZd"
   },
   "source": [
    "Formatting function for vocabulary prompts."
   ]
  },
  {
   "cell_type": "code",
   "execution_count": null,
   "metadata": {
    "id": "qQmt7wJHMbK1"
   },
   "outputs": [],
   "source": [
    "def formatting_prompts_vocab_func(examples):\n",
    "    inputs = examples[\"Question\"]\n",
    "    cots = examples[\"Complex_CoT\"]\n",
    "    outputs = examples[\"Response\"]\n",
    "    texts = []\n",
    "    for input, cot, output in zip(inputs, cots, outputs):\n",
    "        text = train_prompt_vocabulary_style.format(input, cot, output) + EOS_TOKEN\n",
    "        texts.append(text)\n",
    "    return {\n",
    "        \"text\": texts,\n",
    "    }"
   ]
  },
  {
   "cell_type": "markdown",
   "metadata": {
    "id": "00B4K5cP0O7Q"
   },
   "source": [
    "Function to get Pekka Pohjanpää's blog. The blog is split into sentence level and arranged as list of dictionaries."
   ]
  },
  {
   "cell_type": "code",
   "execution_count": null,
   "metadata": {
    "id": "NVx-SiWNmlX8"
   },
   "outputs": [],
   "source": [
    "import random\n",
    "import requests\n",
    "from bs4 import BeautifulSoup\n",
    "import json\n",
    "def get_pohopekka():\n",
    "    main_page_link=\"http://pohopekka.blogspot.com/\"\n",
    "    structured_data = []\n",
    "    page=requests.get(main_page_link)\n",
    "    soup = BeautifulSoup(page.content, 'html.parser')\n",
    "    for element in soup.find_all([\"h2\", \"div\"]):\n",
    "        if element.name==\"h2\":\n",
    "            latest_h2 = element.text.strip()\n",
    "        elif element.name==\"div\" and \"blogPost\" in element.get(\"class\", []):\n",
    "            if latest_h2:\n",
    "                content=element.text.split(\"# posted\")[0].strip().replace('\\r',' ').replace('PEKAN SIVUPERSOONA','').\\\n",
    "                    replace('Pekan Sivupersoona','').replace(\"\\n\",\" \")\n",
    "\n",
    "                content=content.split(\"----\",1)[0].strip()\n",
    "\n",
    "                if len(content)>5:\n",
    "                    structured_data.append({\"title\": latest_h2, \"content\": content})\n",
    "                latest_h2 = None\n",
    "\n",
    "    return structured_data"
   ]
  },
  {
   "cell_type": "markdown",
   "metadata": {
    "id": "6kV_BPIi0k0Q"
   },
   "source": [
    "Matching Pekka Pohjanpää's story on dialect to standard Finnish based on precalculated index."
   ]
  },
  {
   "cell_type": "code",
   "execution_count": null,
   "metadata": {
    "id": "Qyac9aa7mnox"
   },
   "outputs": [],
   "source": [
    "def match_story_sentences_to_standard(stories,standard_finnish_sentences):\n",
    "    story_idx=0\n",
    "    dialect=dict()\n",
    "    for story_ in stories:\n",
    "        story=story_[\"content\"]\n",
    "        story_splitted=story.split(\". \")\n",
    "        inside_story_idx=0\n",
    "        for sentence in story_splitted:\n",
    "            dialect[str(story_idx) + \"-\" + str(inside_story_idx)] = sentence\n",
    "            inside_story_idx+=1\n",
    "        story_idx+=1\n",
    "\n",
    "\n",
    "    with open(standard_finnish_sentences) as f:\n",
    "        standard=json.load(f)\n",
    "\n",
    "    standard_dialect=[]\n",
    "\n",
    "    for key in standard:\n",
    "        standard_dialect.append({\"standard\":standard[key],\"dialect\":dialect[key]})\n",
    "    return standard_dialect"
   ]
  },
  {
   "cell_type": "markdown",
   "metadata": {
    "id": "z7l0raBc1XAr"
   },
   "source": [
    "Function to compose standard dialect prompts."
   ]
  },
  {
   "cell_type": "code",
   "execution_count": null,
   "metadata": {
    "id": "zMrYwxwsm20y"
   },
   "outputs": [],
   "source": [
    "def write_translated(standard_dialect):\n",
    "    data_arr=[]\n",
    "    for data in standard_dialect:\n",
    "        target_data=data[\"dialect\"].strip()\n",
    "        input_data=data[\"standard\"].strip()\n",
    "        system_dict=dict()\n",
    "        input_dict=dict()\n",
    "        target_dict=dict()\n",
    "        system_dict[\"role\"] = \"system\"\n",
    "        system_dict[\"content\"]=\"You translate standard Finnish sentences into the South Ostrobothnian dialect.\"\n",
    "        input_dict[\"role\"] = \"user\"\n",
    "        input_dict[\"content\"] = \"Ilmaise seuraava Etelä-Pohjanmaan murteella: \" + input_data\n",
    "\n",
    "        target_dict[\"role\"] = \"assistant\"\n",
    "        target_dict[\"content\"] = target_data\n",
    "        data_arr.append({\n",
    "            \"Question\": input_data,  # Standard Finnish\n",
    "            \"Complex_CoT\": \"\",\n",
    "            \"Response\": target_data,  # South Ostrobothnian dialect\n",
    "            \"text\": input_data + \" - \" + target_data  # Same as Question and Response\n",
    "        })\n",
    "\n",
    "\n",
    "    return data_arr"
   ]
  },
  {
   "cell_type": "code",
   "execution_count": null,
   "metadata": {
    "id": "xasgcCLqm8OJ"
   },
   "outputs": [],
   "source": [
    "stories=get_pohopekka()\n",
    "standard_dialect=match_story_sentences_to_standard(stories=stories,standard_finnish_sentences=DATA_DIR+\"/standard_finnish_sentences.json\")\n",
    "train_set=write_translated(standard_dialect=standard_dialect)\n",
    "random.shuffle(train_set)"
   ]
  },
  {
   "cell_type": "markdown",
   "metadata": {
    "id": "Pv5oRm3r1pLf"
   },
   "source": [
    "Run standard Finnish vs. dialect data generation."
   ]
  },
  {
   "cell_type": "code",
   "execution_count": null,
   "metadata": {
    "colab": {
     "base_uri": "https://localhost:8080/",
     "height": 49,
     "referenced_widgets": [
      "8927e13b17a54352a84f62e23681ce1c",
      "21197ff61a2a41608ec22e1c5a652a58",
      "aa0d03affee44739a7254fa4942656bb",
      "31c32434249749139d029f184576f0c7",
      "2f1bee6cb65c4d8482a626f225074501",
      "5e5f1b63655a4ec7b479f4634067cdd3",
      "5b877b99c03f44659ec8ad6079d07801",
      "b944732af3004ccfaef4a2691cd82495",
      "036eac72cb4944dda654d0c5eb0993b5",
      "ed89eb8130784397903a65fa0b6da84e",
      "cd831f04378f4eb1be9ce2b7c3047f86"
     ]
    },
    "execution": {
     "iopub.execute_input": "2025-03-15T07:27:14.298697Z",
     "iopub.status.busy": "2025-03-15T07:27:14.298412Z",
     "iopub.status.idle": "2025-03-15T07:27:19.550058Z",
     "shell.execute_reply": "2025-03-15T07:27:19.549158Z",
     "shell.execute_reply.started": "2025-03-15T07:27:14.298667Z"
    },
    "id": "2RrXytIuSlVO",
    "outputId": "294ad53f-5323-4096-c73c-6e7793911201"
   },
   "outputs": [],
   "source": [
    "from datasets import load_dataset, Dataset\n",
    "\n",
    "dataset0 = Dataset.from_list(train_set)\n",
    "\n",
    "dataset0 = dataset0.map(formatting_prompts_func, batched = True,)"
   ]
  },
  {
   "cell_type": "markdown",
   "metadata": {
    "id": "HJmw_UCA1tVE"
   },
   "source": [
    "Get the vocabulary data, which I'm sharing in the repo."
   ]
  },
  {
   "cell_type": "code",
   "execution_count": null,
   "metadata": {
    "id": "QuiMNAZo_Ph7"
   },
   "outputs": [],
   "source": [
    "data_file_path = DATA_DIR+'/vocabulary_deep_seek_format.json'\n",
    "\n",
    "\n",
    "dataset1 = load_dataset('json',data_files=data_file_path, split = \"train[:-1]\",trust_remote_code=True)\n",
    "\n",
    "dataset1 = dataset1.map(formatting_prompts_vocab_func, batched = True,)"
   ]
  },
  {
   "cell_type": "markdown",
   "metadata": {
    "id": "AfnwuNDZ15hW"
   },
   "source": [
    "Model configurations."
   ]
  },
  {
   "cell_type": "code",
   "execution_count": null,
   "metadata": {
    "colab": {
     "base_uri": "https://localhost:8080/"
    },
    "execution": {
     "iopub.execute_input": "2025-03-15T07:27:19.551444Z",
     "iopub.status.busy": "2025-03-15T07:27:19.551116Z",
     "iopub.status.idle": "2025-03-15T07:27:25.644607Z",
     "shell.execute_reply": "2025-03-15T07:27:25.643691Z",
     "shell.execute_reply.started": "2025-03-15T07:27:19.551411Z"
    },
    "id": "B3QlpPb4SlVP",
    "outputId": "18af28fc-cd59-44a7-d58a-52a610dba49b"
   },
   "outputs": [],
   "source": [
    "model = FastLanguageModel.get_peft_model(\n",
    "    model,\n",
    "    r=16,\n",
    "    target_modules=[\n",
    "        \"q_proj\",\n",
    "        \"k_proj\",\n",
    "        \"v_proj\",\n",
    "        \"o_proj\",\n",
    "        \"gate_proj\",\n",
    "        \"up_proj\",\n",
    "        \"down_proj\",\n",
    "    ],\n",
    "    lora_alpha=16,\n",
    "    lora_dropout=0,\n",
    "    bias=\"none\",\n",
    "    use_gradient_checkpointing=\"unsloth\",  # True or \"unsloth\" for very long context\n",
    "    random_state=3407,\n",
    "    use_rslora=False,\n",
    "    loftq_config=None,\n",
    ")"
   ]
  },
  {
   "cell_type": "markdown",
   "metadata": {
    "id": "N-6oyi-91-wN"
   },
   "source": [
    "Trainer for standard Finnish - dialect sentence pairs."
   ]
  },
  {
   "cell_type": "code",
   "execution_count": null,
   "metadata": {
    "colab": {
     "base_uri": "https://localhost:8080/",
     "height": 49,
     "referenced_widgets": [
      "9e6ee0b6599d47d8b97bd05426328951",
      "fd19162a2ebe4e3f83302e84925a4dd3",
      "524d72b59bb54fa0b9637744205f3a11",
      "ef700c51b4474237a79c9d2caaac6cc3",
      "81ca3194b6b9434e913210e8100af975",
      "1acfd56ea16c4e68977494991b4f949b",
      "bd699d3d83e14b8f8529370807169f05",
      "1db372d15294400cb7442d6500ce1d2c",
      "1f201bf1c46d4e639eba748ab8e0870f",
      "8bf0d8e012ef42cf844c8b633964aef6",
      "dcf65fa8af5d4673ab201fee64f01068"
     ]
    },
    "execution": {
     "iopub.execute_input": "2025-03-15T07:27:25.645792Z",
     "iopub.status.busy": "2025-03-15T07:27:25.645541Z",
     "iopub.status.idle": "2025-03-15T07:27:28.297562Z",
     "shell.execute_reply": "2025-03-15T07:27:28.296498Z",
     "shell.execute_reply.started": "2025-03-15T07:27:25.645770Z"
    },
    "id": "iZ63LanwSlVQ",
    "outputId": "de43b916-3833-469e-f284-b1e566ccbbf4"
   },
   "outputs": [],
   "source": [
    "from trl import SFTTrainer\n",
    "from transformers import TrainingArguments\n",
    "from unsloth import is_bfloat16_supported\n",
    "\n",
    "trainer_transl = SFTTrainer(\n",
    "    model=model,\n",
    "    tokenizer=tokenizer,\n",
    "    train_dataset=dataset0,\n",
    "    dataset_text_field=\"text\",\n",
    "    max_seq_length=max_seq_length,\n",
    "    dataset_num_proc=2,\n",
    "    args=TrainingArguments(\n",
    "        per_device_train_batch_size=2,\n",
    "        gradient_accumulation_steps=4,\n",
    "        # Use num_train_epochs = 1, warmup_ratio for full training runs!\n",
    "        warmup_steps=5,\n",
    "        #max_steps=60,\n",
    "        num_train_epochs=3,\n",
    "        learning_rate=2e-4,\n",
    "        fp16=not is_bfloat16_supported(),\n",
    "        bf16=is_bfloat16_supported(),\n",
    "        logging_steps=10,\n",
    "        optim=\"adamw_8bit\",\n",
    "        weight_decay=0.01,\n",
    "        lr_scheduler_type=\"linear\",\n",
    "        seed=3407,\n",
    "        output_dir=\"outputs\",\n",
    "    ),\n",
    ")"
   ]
  },
  {
   "cell_type": "markdown",
   "metadata": {
    "id": "wP6vCXvO2EDT"
   },
   "source": [
    "Trainer for vocabulary data. Less epochs and smaller learning rate as number of training samples is larger than number of samples on the sentence pair data."
   ]
  },
  {
   "cell_type": "code",
   "execution_count": null,
   "metadata": {
    "id": "7iTXNTcxTGeM"
   },
   "outputs": [],
   "source": [
    "#works when not ran\n",
    "trainer_vocab = SFTTrainer(\n",
    "    model=model,\n",
    "    tokenizer=tokenizer,\n",
    "    train_dataset=dataset1,\n",
    "    dataset_text_field=\"text\",\n",
    "    max_seq_length=max_seq_length,\n",
    "    dataset_num_proc=2,\n",
    "    args=TrainingArguments(\n",
    "        per_device_train_batch_size=2,\n",
    "        gradient_accumulation_steps=4,\n",
    "        # Use num_train_epochs = 1, warmup_ratio for full training runs!\n",
    "        warmup_steps=5,\n",
    "        #max_steps=60,\n",
    "        num_train_epochs=1,\n",
    "        learning_rate=5e-5,\n",
    "        fp16=not is_bfloat16_supported(),\n",
    "        bf16=is_bfloat16_supported(),\n",
    "        logging_steps=10,\n",
    "        optim=\"adamw_8bit\",\n",
    "        weight_decay=0.01,\n",
    "        lr_scheduler_type=\"linear\",\n",
    "        seed=3407,\n",
    "        output_dir=\"outputs/vocab\",\n",
    "    ),\n",
    ")"
   ]
  },
  {
   "cell_type": "markdown",
   "metadata": {
    "id": "cDGVGX6j2Vsz"
   },
   "source": [
    "Run trainers."
   ]
  },
  {
   "cell_type": "code",
   "execution_count": null,
   "metadata": {
    "colab": {
     "base_uri": "https://localhost:8080/",
     "height": 886
    },
    "execution": {
     "iopub.execute_input": "2025-03-15T07:27:28.298742Z",
     "iopub.status.busy": "2025-03-15T07:27:28.298472Z",
     "iopub.status.idle": "2025-03-15T08:12:04.935861Z",
     "shell.execute_reply": "2025-03-15T08:12:04.935157Z",
     "shell.execute_reply.started": "2025-03-15T07:27:28.298715Z"
    },
    "id": "b1OIazATSlVQ",
    "outputId": "9fdc07f0-0d6b-4591-825a-1896a10d8543"
   },
   "outputs": [],
   "source": [
    "!nvidia-smi\n",
    "trainer_stats = trainer_transl.train()"
   ]
  },
  {
   "cell_type": "code",
   "execution_count": null,
   "metadata": {
    "colab": {
     "base_uri": "https://localhost:8080/",
     "height": 1000
    },
    "id": "2itzLVVWUSgW",
    "outputId": "3a7e879e-b938-43a7-bdb2-43e20c94833f"
   },
   "outputs": [],
   "source": [
    "!nvidia-smi\n",
    "trainer_stats = trainer_vocab.train()"
   ]
  },
  {
   "cell_type": "markdown",
   "metadata": {
    "id": "l0BRv1et2YaQ"
   },
   "source": [
    "Run test on signle sentence."
   ]
  },
  {
   "cell_type": "code",
   "execution_count": null,
   "metadata": {
    "colab": {
     "base_uri": "https://localhost:8080/"
    },
    "execution": {
     "iopub.execute_input": "2025-03-15T08:12:04.937104Z",
     "iopub.status.busy": "2025-03-15T08:12:04.936884Z",
     "iopub.status.idle": "2025-03-15T08:12:32.743352Z",
     "shell.execute_reply": "2025-03-15T08:12:32.742274Z",
     "shell.execute_reply.started": "2025-03-15T08:12:04.937085Z"
    },
    "id": "NQtRFraISlVR",
    "outputId": "0618ff47-1805-4bdb-dc67-f42048fa89fc"
   },
   "outputs": [],
   "source": [
    "standard_finnish = \"Hevoskauppias ajoi uudella hevosellaan meidän talon ohi. Katsoin häntä aitan ovelta.\"\n",
    "\n",
    "\n",
    "FastLanguageModel.for_inference(model)  # Unsloth has 2x faster inference!\n",
    "inputs = tokenizer([prompt_style.format(standard_finnish, \"\")], return_tensors=\"pt\").to(\"cuda\")\n",
    "\n",
    "outputs = model.generate(\n",
    "    input_ids=inputs.input_ids,\n",
    "    attention_mask=inputs.attention_mask,\n",
    "    max_new_tokens=1200,\n",
    "    use_cache=True,\n",
    ")\n",
    "response = tokenizer.batch_decode(outputs)\n",
    "print(\"Dialect:\")\n",
    "print(response[0].split(\"### Response:\")[1])\n"
   ]
  }
 ],
 "metadata": {
  "accelerator": "GPU",
  "colab": {
   "gpuType": "T4",
   "include_colab_link": true,
   "provenance": []
  },
  "kaggle": {
   "accelerator": "gpu",
   "dataSources": [],
   "dockerImageVersionId": 30919,
   "isGpuEnabled": true,
   "isInternetEnabled": true,
   "language": "python",
   "sourceType": "notebook"
  },
  "kernelspec": {
   "display_name": "Python 3",
   "name": "python3"
  },
  "language_info": {
   "codemirror_mode": {
    "name": "ipython",
    "version": 3
   },
   "file_extension": ".py",
   "mimetype": "text/x-python",
   "name": "python",
   "nbconvert_exporter": "python",
   "pygments_lexer": "ipython3",
   "version": "3.10.12"
  },
  "widgets": {
   "application/vnd.jupyter.widget-state+json": {
    "036eac72cb4944dda654d0c5eb0993b5": {
     "model_module": "@jupyter-widgets/controls",
     "model_module_version": "1.5.0",
     "model_name": "ProgressStyleModel",
     "state": {
      "_model_module": "@jupyter-widgets/controls",
      "_model_module_version": "1.5.0",
      "_model_name": "ProgressStyleModel",
      "_view_count": null,
      "_view_module": "@jupyter-widgets/base",
      "_view_module_version": "1.2.0",
      "_view_name": "StyleView",
      "bar_color": null,
      "description_width": ""
     }
    },
    "1acfd56ea16c4e68977494991b4f949b": {
     "model_module": "@jupyter-widgets/base",
     "model_module_version": "1.2.0",
     "model_name": "LayoutModel",
     "state": {
      "_model_module": "@jupyter-widgets/base",
      "_model_module_version": "1.2.0",
      "_model_name": "LayoutModel",
      "_view_count": null,
      "_view_module": "@jupyter-widgets/base",
      "_view_module_version": "1.2.0",
      "_view_name": "LayoutView",
      "align_content": null,
      "align_items": null,
      "align_self": null,
      "border": null,
      "bottom": null,
      "display": null,
      "flex": null,
      "flex_flow": null,
      "grid_area": null,
      "grid_auto_columns": null,
      "grid_auto_flow": null,
      "grid_auto_rows": null,
      "grid_column": null,
      "grid_gap": null,
      "grid_row": null,
      "grid_template_areas": null,
      "grid_template_columns": null,
      "grid_template_rows": null,
      "height": null,
      "justify_content": null,
      "justify_items": null,
      "left": null,
      "margin": null,
      "max_height": null,
      "max_width": null,
      "min_height": null,
      "min_width": null,
      "object_fit": null,
      "object_position": null,
      "order": null,
      "overflow": null,
      "overflow_x": null,
      "overflow_y": null,
      "padding": null,
      "right": null,
      "top": null,
      "visibility": null,
      "width": null
     }
    },
    "1db372d15294400cb7442d6500ce1d2c": {
     "model_module": "@jupyter-widgets/base",
     "model_module_version": "1.2.0",
     "model_name": "LayoutModel",
     "state": {
      "_model_module": "@jupyter-widgets/base",
      "_model_module_version": "1.2.0",
      "_model_name": "LayoutModel",
      "_view_count": null,
      "_view_module": "@jupyter-widgets/base",
      "_view_module_version": "1.2.0",
      "_view_name": "LayoutView",
      "align_content": null,
      "align_items": null,
      "align_self": null,
      "border": null,
      "bottom": null,
      "display": null,
      "flex": null,
      "flex_flow": null,
      "grid_area": null,
      "grid_auto_columns": null,
      "grid_auto_flow": null,
      "grid_auto_rows": null,
      "grid_column": null,
      "grid_gap": null,
      "grid_row": null,
      "grid_template_areas": null,
      "grid_template_columns": null,
      "grid_template_rows": null,
      "height": null,
      "justify_content": null,
      "justify_items": null,
      "left": null,
      "margin": null,
      "max_height": null,
      "max_width": null,
      "min_height": null,
      "min_width": null,
      "object_fit": null,
      "object_position": null,
      "order": null,
      "overflow": null,
      "overflow_x": null,
      "overflow_y": null,
      "padding": null,
      "right": null,
      "top": null,
      "visibility": null,
      "width": null
     }
    },
    "1f201bf1c46d4e639eba748ab8e0870f": {
     "model_module": "@jupyter-widgets/controls",
     "model_module_version": "1.5.0",
     "model_name": "ProgressStyleModel",
     "state": {
      "_model_module": "@jupyter-widgets/controls",
      "_model_module_version": "1.5.0",
      "_model_name": "ProgressStyleModel",
      "_view_count": null,
      "_view_module": "@jupyter-widgets/base",
      "_view_module_version": "1.2.0",
      "_view_name": "StyleView",
      "bar_color": null,
      "description_width": ""
     }
    },
    "21197ff61a2a41608ec22e1c5a652a58": {
     "model_module": "@jupyter-widgets/controls",
     "model_module_version": "1.5.0",
     "model_name": "HTMLModel",
     "state": {
      "_dom_classes": [],
      "_model_module": "@jupyter-widgets/controls",
      "_model_module_version": "1.5.0",
      "_model_name": "HTMLModel",
      "_view_count": null,
      "_view_module": "@jupyter-widgets/controls",
      "_view_module_version": "1.5.0",
      "_view_name": "HTMLView",
      "description": "",
      "description_tooltip": null,
      "layout": "IPY_MODEL_5e5f1b63655a4ec7b479f4634067cdd3",
      "placeholder": "​",
      "style": "IPY_MODEL_5b877b99c03f44659ec8ad6079d07801",
      "value": "Map: 100%"
     }
    },
    "2f1bee6cb65c4d8482a626f225074501": {
     "model_module": "@jupyter-widgets/base",
     "model_module_version": "1.2.0",
     "model_name": "LayoutModel",
     "state": {
      "_model_module": "@jupyter-widgets/base",
      "_model_module_version": "1.2.0",
      "_model_name": "LayoutModel",
      "_view_count": null,
      "_view_module": "@jupyter-widgets/base",
      "_view_module_version": "1.2.0",
      "_view_name": "LayoutView",
      "align_content": null,
      "align_items": null,
      "align_self": null,
      "border": null,
      "bottom": null,
      "display": null,
      "flex": null,
      "flex_flow": null,
      "grid_area": null,
      "grid_auto_columns": null,
      "grid_auto_flow": null,
      "grid_auto_rows": null,
      "grid_column": null,
      "grid_gap": null,
      "grid_row": null,
      "grid_template_areas": null,
      "grid_template_columns": null,
      "grid_template_rows": null,
      "height": null,
      "justify_content": null,
      "justify_items": null,
      "left": null,
      "margin": null,
      "max_height": null,
      "max_width": null,
      "min_height": null,
      "min_width": null,
      "object_fit": null,
      "object_position": null,
      "order": null,
      "overflow": null,
      "overflow_x": null,
      "overflow_y": null,
      "padding": null,
      "right": null,
      "top": null,
      "visibility": null,
      "width": null
     }
    },
    "31c32434249749139d029f184576f0c7": {
     "model_module": "@jupyter-widgets/controls",
     "model_module_version": "1.5.0",
     "model_name": "HTMLModel",
     "state": {
      "_dom_classes": [],
      "_model_module": "@jupyter-widgets/controls",
      "_model_module_version": "1.5.0",
      "_model_name": "HTMLModel",
      "_view_count": null,
      "_view_module": "@jupyter-widgets/controls",
      "_view_module_version": "1.5.0",
      "_view_name": "HTMLView",
      "description": "",
      "description_tooltip": null,
      "layout": "IPY_MODEL_ed89eb8130784397903a65fa0b6da84e",
      "placeholder": "​",
      "style": "IPY_MODEL_cd831f04378f4eb1be9ce2b7c3047f86",
      "value": " 306/306 [00:00&lt;00:00, 12620.15 examples/s]"
     }
    },
    "524d72b59bb54fa0b9637744205f3a11": {
     "model_module": "@jupyter-widgets/controls",
     "model_module_version": "1.5.0",
     "model_name": "FloatProgressModel",
     "state": {
      "_dom_classes": [],
      "_model_module": "@jupyter-widgets/controls",
      "_model_module_version": "1.5.0",
      "_model_name": "FloatProgressModel",
      "_view_count": null,
      "_view_module": "@jupyter-widgets/controls",
      "_view_module_version": "1.5.0",
      "_view_name": "ProgressView",
      "bar_style": "success",
      "description": "",
      "description_tooltip": null,
      "layout": "IPY_MODEL_1db372d15294400cb7442d6500ce1d2c",
      "max": 306,
      "min": 0,
      "orientation": "horizontal",
      "style": "IPY_MODEL_1f201bf1c46d4e639eba748ab8e0870f",
      "value": 306
     }
    },
    "5b877b99c03f44659ec8ad6079d07801": {
     "model_module": "@jupyter-widgets/controls",
     "model_module_version": "1.5.0",
     "model_name": "DescriptionStyleModel",
     "state": {
      "_model_module": "@jupyter-widgets/controls",
      "_model_module_version": "1.5.0",
      "_model_name": "DescriptionStyleModel",
      "_view_count": null,
      "_view_module": "@jupyter-widgets/base",
      "_view_module_version": "1.2.0",
      "_view_name": "StyleView",
      "description_width": ""
     }
    },
    "5e5f1b63655a4ec7b479f4634067cdd3": {
     "model_module": "@jupyter-widgets/base",
     "model_module_version": "1.2.0",
     "model_name": "LayoutModel",
     "state": {
      "_model_module": "@jupyter-widgets/base",
      "_model_module_version": "1.2.0",
      "_model_name": "LayoutModel",
      "_view_count": null,
      "_view_module": "@jupyter-widgets/base",
      "_view_module_version": "1.2.0",
      "_view_name": "LayoutView",
      "align_content": null,
      "align_items": null,
      "align_self": null,
      "border": null,
      "bottom": null,
      "display": null,
      "flex": null,
      "flex_flow": null,
      "grid_area": null,
      "grid_auto_columns": null,
      "grid_auto_flow": null,
      "grid_auto_rows": null,
      "grid_column": null,
      "grid_gap": null,
      "grid_row": null,
      "grid_template_areas": null,
      "grid_template_columns": null,
      "grid_template_rows": null,
      "height": null,
      "justify_content": null,
      "justify_items": null,
      "left": null,
      "margin": null,
      "max_height": null,
      "max_width": null,
      "min_height": null,
      "min_width": null,
      "object_fit": null,
      "object_position": null,
      "order": null,
      "overflow": null,
      "overflow_x": null,
      "overflow_y": null,
      "padding": null,
      "right": null,
      "top": null,
      "visibility": null,
      "width": null
     }
    },
    "81ca3194b6b9434e913210e8100af975": {
     "model_module": "@jupyter-widgets/base",
     "model_module_version": "1.2.0",
     "model_name": "LayoutModel",
     "state": {
      "_model_module": "@jupyter-widgets/base",
      "_model_module_version": "1.2.0",
      "_model_name": "LayoutModel",
      "_view_count": null,
      "_view_module": "@jupyter-widgets/base",
      "_view_module_version": "1.2.0",
      "_view_name": "LayoutView",
      "align_content": null,
      "align_items": null,
      "align_self": null,
      "border": null,
      "bottom": null,
      "display": null,
      "flex": null,
      "flex_flow": null,
      "grid_area": null,
      "grid_auto_columns": null,
      "grid_auto_flow": null,
      "grid_auto_rows": null,
      "grid_column": null,
      "grid_gap": null,
      "grid_row": null,
      "grid_template_areas": null,
      "grid_template_columns": null,
      "grid_template_rows": null,
      "height": null,
      "justify_content": null,
      "justify_items": null,
      "left": null,
      "margin": null,
      "max_height": null,
      "max_width": null,
      "min_height": null,
      "min_width": null,
      "object_fit": null,
      "object_position": null,
      "order": null,
      "overflow": null,
      "overflow_x": null,
      "overflow_y": null,
      "padding": null,
      "right": null,
      "top": null,
      "visibility": null,
      "width": null
     }
    },
    "8927e13b17a54352a84f62e23681ce1c": {
     "model_module": "@jupyter-widgets/controls",
     "model_module_version": "1.5.0",
     "model_name": "HBoxModel",
     "state": {
      "_dom_classes": [],
      "_model_module": "@jupyter-widgets/controls",
      "_model_module_version": "1.5.0",
      "_model_name": "HBoxModel",
      "_view_count": null,
      "_view_module": "@jupyter-widgets/controls",
      "_view_module_version": "1.5.0",
      "_view_name": "HBoxView",
      "box_style": "",
      "children": [
       "IPY_MODEL_21197ff61a2a41608ec22e1c5a652a58",
       "IPY_MODEL_aa0d03affee44739a7254fa4942656bb",
       "IPY_MODEL_31c32434249749139d029f184576f0c7"
      ],
      "layout": "IPY_MODEL_2f1bee6cb65c4d8482a626f225074501"
     }
    },
    "8bf0d8e012ef42cf844c8b633964aef6": {
     "model_module": "@jupyter-widgets/base",
     "model_module_version": "1.2.0",
     "model_name": "LayoutModel",
     "state": {
      "_model_module": "@jupyter-widgets/base",
      "_model_module_version": "1.2.0",
      "_model_name": "LayoutModel",
      "_view_count": null,
      "_view_module": "@jupyter-widgets/base",
      "_view_module_version": "1.2.0",
      "_view_name": "LayoutView",
      "align_content": null,
      "align_items": null,
      "align_self": null,
      "border": null,
      "bottom": null,
      "display": null,
      "flex": null,
      "flex_flow": null,
      "grid_area": null,
      "grid_auto_columns": null,
      "grid_auto_flow": null,
      "grid_auto_rows": null,
      "grid_column": null,
      "grid_gap": null,
      "grid_row": null,
      "grid_template_areas": null,
      "grid_template_columns": null,
      "grid_template_rows": null,
      "height": null,
      "justify_content": null,
      "justify_items": null,
      "left": null,
      "margin": null,
      "max_height": null,
      "max_width": null,
      "min_height": null,
      "min_width": null,
      "object_fit": null,
      "object_position": null,
      "order": null,
      "overflow": null,
      "overflow_x": null,
      "overflow_y": null,
      "padding": null,
      "right": null,
      "top": null,
      "visibility": null,
      "width": null
     }
    },
    "9e6ee0b6599d47d8b97bd05426328951": {
     "model_module": "@jupyter-widgets/controls",
     "model_module_version": "1.5.0",
     "model_name": "HBoxModel",
     "state": {
      "_dom_classes": [],
      "_model_module": "@jupyter-widgets/controls",
      "_model_module_version": "1.5.0",
      "_model_name": "HBoxModel",
      "_view_count": null,
      "_view_module": "@jupyter-widgets/controls",
      "_view_module_version": "1.5.0",
      "_view_name": "HBoxView",
      "box_style": "",
      "children": [
       "IPY_MODEL_fd19162a2ebe4e3f83302e84925a4dd3",
       "IPY_MODEL_524d72b59bb54fa0b9637744205f3a11",
       "IPY_MODEL_ef700c51b4474237a79c9d2caaac6cc3"
      ],
      "layout": "IPY_MODEL_81ca3194b6b9434e913210e8100af975"
     }
    },
    "aa0d03affee44739a7254fa4942656bb": {
     "model_module": "@jupyter-widgets/controls",
     "model_module_version": "1.5.0",
     "model_name": "FloatProgressModel",
     "state": {
      "_dom_classes": [],
      "_model_module": "@jupyter-widgets/controls",
      "_model_module_version": "1.5.0",
      "_model_name": "FloatProgressModel",
      "_view_count": null,
      "_view_module": "@jupyter-widgets/controls",
      "_view_module_version": "1.5.0",
      "_view_name": "ProgressView",
      "bar_style": "success",
      "description": "",
      "description_tooltip": null,
      "layout": "IPY_MODEL_b944732af3004ccfaef4a2691cd82495",
      "max": 306,
      "min": 0,
      "orientation": "horizontal",
      "style": "IPY_MODEL_036eac72cb4944dda654d0c5eb0993b5",
      "value": 306
     }
    },
    "b944732af3004ccfaef4a2691cd82495": {
     "model_module": "@jupyter-widgets/base",
     "model_module_version": "1.2.0",
     "model_name": "LayoutModel",
     "state": {
      "_model_module": "@jupyter-widgets/base",
      "_model_module_version": "1.2.0",
      "_model_name": "LayoutModel",
      "_view_count": null,
      "_view_module": "@jupyter-widgets/base",
      "_view_module_version": "1.2.0",
      "_view_name": "LayoutView",
      "align_content": null,
      "align_items": null,
      "align_self": null,
      "border": null,
      "bottom": null,
      "display": null,
      "flex": null,
      "flex_flow": null,
      "grid_area": null,
      "grid_auto_columns": null,
      "grid_auto_flow": null,
      "grid_auto_rows": null,
      "grid_column": null,
      "grid_gap": null,
      "grid_row": null,
      "grid_template_areas": null,
      "grid_template_columns": null,
      "grid_template_rows": null,
      "height": null,
      "justify_content": null,
      "justify_items": null,
      "left": null,
      "margin": null,
      "max_height": null,
      "max_width": null,
      "min_height": null,
      "min_width": null,
      "object_fit": null,
      "object_position": null,
      "order": null,
      "overflow": null,
      "overflow_x": null,
      "overflow_y": null,
      "padding": null,
      "right": null,
      "top": null,
      "visibility": null,
      "width": null
     }
    },
    "bd699d3d83e14b8f8529370807169f05": {
     "model_module": "@jupyter-widgets/controls",
     "model_module_version": "1.5.0",
     "model_name": "DescriptionStyleModel",
     "state": {
      "_model_module": "@jupyter-widgets/controls",
      "_model_module_version": "1.5.0",
      "_model_name": "DescriptionStyleModel",
      "_view_count": null,
      "_view_module": "@jupyter-widgets/base",
      "_view_module_version": "1.2.0",
      "_view_name": "StyleView",
      "description_width": ""
     }
    },
    "cd831f04378f4eb1be9ce2b7c3047f86": {
     "model_module": "@jupyter-widgets/controls",
     "model_module_version": "1.5.0",
     "model_name": "DescriptionStyleModel",
     "state": {
      "_model_module": "@jupyter-widgets/controls",
      "_model_module_version": "1.5.0",
      "_model_name": "DescriptionStyleModel",
      "_view_count": null,
      "_view_module": "@jupyter-widgets/base",
      "_view_module_version": "1.2.0",
      "_view_name": "StyleView",
      "description_width": ""
     }
    },
    "dcf65fa8af5d4673ab201fee64f01068": {
     "model_module": "@jupyter-widgets/controls",
     "model_module_version": "1.5.0",
     "model_name": "DescriptionStyleModel",
     "state": {
      "_model_module": "@jupyter-widgets/controls",
      "_model_module_version": "1.5.0",
      "_model_name": "DescriptionStyleModel",
      "_view_count": null,
      "_view_module": "@jupyter-widgets/base",
      "_view_module_version": "1.2.0",
      "_view_name": "StyleView",
      "description_width": ""
     }
    },
    "ed89eb8130784397903a65fa0b6da84e": {
     "model_module": "@jupyter-widgets/base",
     "model_module_version": "1.2.0",
     "model_name": "LayoutModel",
     "state": {
      "_model_module": "@jupyter-widgets/base",
      "_model_module_version": "1.2.0",
      "_model_name": "LayoutModel",
      "_view_count": null,
      "_view_module": "@jupyter-widgets/base",
      "_view_module_version": "1.2.0",
      "_view_name": "LayoutView",
      "align_content": null,
      "align_items": null,
      "align_self": null,
      "border": null,
      "bottom": null,
      "display": null,
      "flex": null,
      "flex_flow": null,
      "grid_area": null,
      "grid_auto_columns": null,
      "grid_auto_flow": null,
      "grid_auto_rows": null,
      "grid_column": null,
      "grid_gap": null,
      "grid_row": null,
      "grid_template_areas": null,
      "grid_template_columns": null,
      "grid_template_rows": null,
      "height": null,
      "justify_content": null,
      "justify_items": null,
      "left": null,
      "margin": null,
      "max_height": null,
      "max_width": null,
      "min_height": null,
      "min_width": null,
      "object_fit": null,
      "object_position": null,
      "order": null,
      "overflow": null,
      "overflow_x": null,
      "overflow_y": null,
      "padding": null,
      "right": null,
      "top": null,
      "visibility": null,
      "width": null
     }
    },
    "ef700c51b4474237a79c9d2caaac6cc3": {
     "model_module": "@jupyter-widgets/controls",
     "model_module_version": "1.5.0",
     "model_name": "HTMLModel",
     "state": {
      "_dom_classes": [],
      "_model_module": "@jupyter-widgets/controls",
      "_model_module_version": "1.5.0",
      "_model_name": "HTMLModel",
      "_view_count": null,
      "_view_module": "@jupyter-widgets/controls",
      "_view_module_version": "1.5.0",
      "_view_name": "HTMLView",
      "description": "",
      "description_tooltip": null,
      "layout": "IPY_MODEL_8bf0d8e012ef42cf844c8b633964aef6",
      "placeholder": "​",
      "style": "IPY_MODEL_dcf65fa8af5d4673ab201fee64f01068",
      "value": " 306/306 [00:02&lt;00:00, 167.61 examples/s]"
     }
    },
    "fd19162a2ebe4e3f83302e84925a4dd3": {
     "model_module": "@jupyter-widgets/controls",
     "model_module_version": "1.5.0",
     "model_name": "HTMLModel",
     "state": {
      "_dom_classes": [],
      "_model_module": "@jupyter-widgets/controls",
      "_model_module_version": "1.5.0",
      "_model_name": "HTMLModel",
      "_view_count": null,
      "_view_module": "@jupyter-widgets/controls",
      "_view_module_version": "1.5.0",
      "_view_name": "HTMLView",
      "description": "",
      "description_tooltip": null,
      "layout": "IPY_MODEL_1acfd56ea16c4e68977494991b4f949b",
      "placeholder": "​",
      "style": "IPY_MODEL_bd699d3d83e14b8f8529370807169f05",
      "value": "Unsloth: Tokenizing [&quot;text&quot;] (num_proc=2): 100%"
     }
    }
   }
  }
 },
 "nbformat": 4,
 "nbformat_minor": 0
}
